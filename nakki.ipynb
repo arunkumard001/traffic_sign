{
  "nbformat": 4,
  "nbformat_minor": 0,
  "metadata": {
    "colab": {
      "name": "nakki.ipynb",
      "private_outputs": true,
      "provenance": [],
      "authorship_tag": "ABX9TyMn8Xzpu6s9hs+24qThrWT+",
      "include_colab_link": true
    },
    "kernelspec": {
      "name": "python3",
      "display_name": "Python 3"
    }
  },
  "cells": [
    {
      "cell_type": "markdown",
      "metadata": {
        "id": "view-in-github",
        "colab_type": "text"
      },
      "source": [
        "<a href=\"https://colab.research.google.com/github/arunkumard001/traffic_sign/blob/main/nakki.ipynb\" target=\"_parent\"><img src=\"https://colab.research.google.com/assets/colab-badge.svg\" alt=\"Open In Colab\"/></a>"
      ]
    },
    {
      "cell_type": "code",
      "metadata": {
        "id": "k4wRdNC_oOC2"
      },
      "source": [
        "import numpy as np\n",
        "import matplotlib.pyplot as plt\n",
        "import keras\n",
        "from keras.models import Sequential\n",
        "from keras.optimizers import Adam\n",
        "from keras.layers import Dense\n",
        "from keras.layers import Flatten, Dropout\n",
        "from keras.utils.np_utils import to_categorical\n",
        "from keras.layers.convolutional import Conv2D, MaxPooling2D\n",
        "import random\n",
        "import pickle\n",
        "import pandas as pd\n",
        "import cv2"
      ],
      "execution_count": null,
      "outputs": []
    },
    {
      "cell_type": "code",
      "metadata": {
        "id": "vk8unN6AoUrM"
      },
      "source": [
        "np.random.seed(0)\n",
        " \n",
        "#loading the train.p pickle file\n",
        "with open('traffic-signs/train.p', 'rb') as f:\n",
        "    train_data = pickle.load(f)\n",
        " \n",
        "#loading the valid.p pickle file\n",
        "with open('traffic-signs/valid.p', 'rb') as f:\n",
        "    val_data = pickle.load(f)\n",
        " \n",
        "# loading the test.p pickle file\n",
        "with open('traffic-signs/test.p', 'rb') as f:\n",
        "    test_data = pickle.load(f)\n",
        "     \n",
        "        \n",
        "# Splitting out features and labels\n",
        "X_train, y_train = train_data['features'], train_data['labels']\n",
        "X_val, y_val = val_data['features'], val_data['labels']\n",
        "X_test, y_test = test_data['features'], test_data['labels']\n",
        "     \n",
        "print(\"The dimensions of x_train is:\",X_train.shape)\n",
        "print(\"The dimensions of x_test is:\",X_test.shape)\n",
        "print(\"The dimensions of x_val is:\",X_val.shape)"
      ],
      "execution_count": null,
      "outputs": []
    },
    {
      "cell_type": "code",
      "metadata": {
        "id": "lrAIXgYloadv"
      },
      "source": [
        "data = pd.read_csv('traffic-signs/signnames.csv')\n",
        "      \n",
        "num_of_samples=[]\n",
        "     \n",
        "cols = 5\n",
        "num_classes = 43\n",
        "     \n",
        "fig, axs = plt.subplots(nrows=num_classes, ncols=cols, figsize=(5,50))\n",
        "fig.tight_layout()\n",
        "     \n",
        "for i in range(cols):\n",
        "  for j, row in data.iterrows():\n",
        "      x_selected = X_train[y_train == j]\n",
        "      axs[j][i].imshow(x_selected[random.randint(0,(len(x_selected) - 1)), :, :], cmap=plt.get_cmap('gray'))\n",
        "      axs[j][i].axis(\"off\")\n",
        "      if i == 2:\n",
        "           axs[j][i].set_title(str(j) + \" - \" + row[\"SignName\"])\n",
        "           num_of_samples.append(len(x_selected))"
      ],
      "execution_count": null,
      "outputs": []
    },
    {
      "cell_type": "code",
      "metadata": {
        "id": "C8_9rp8yolpz"
      },
      "source": [
        "print(num_of_samples)\n",
        "plt.figure(figsize=(12, 4))\n",
        "plt.bar(range(0, num_classes), num_of_samples)\n",
        "plt.title(\"Distribution of the train dataset\")\n",
        "plt.xlabel(\"Class number\")\n",
        "plt.ylabel(\"Number of images\")\n",
        "plt.show()\n"
      ],
      "execution_count": null,
      "outputs": []
    },
    {
      "cell_type": "code",
      "metadata": {
        "id": "WeU736wSou9R"
      },
      "source": [
        "import cv2\n",
        "     \n",
        "plt.imshow(X_train[1000])\n",
        "plt.axis(\"off\")\n",
        "print(X_train[1000].shape)\n",
        "print(y_train[1000])\n",
        "\n",
        "def grayscale(img):\n",
        "    img = cv2.cvtColor(img, cv2.COLOR_BGR2GRAY)\n",
        "    return img"
      ],
      "execution_count": null,
      "outputs": []
    },
    {
      "cell_type": "code",
      "metadata": {
        "id": "x0yk0BDVo4oT"
      },
      "source": [
        "img = grayscale(X_train[1000])\n",
        "plt.imshow(img)\n",
        "plt.axis(\"off\")\n",
        "print(img.shape)\n",
        " \n",
        "def equalize(img):\n",
        "    img = cv2.equalizeHist(img)\n",
        "    return img\n",
        " \n",
        "img = equalize(img)\n",
        "plt.imshow(img)\n",
        "plt.axis(\"off\")\n",
        "print(img.shape)\n",
        " \n",
        "def preprocess(img):\n",
        "    img = grayscale(img)\n",
        "    img = equalize(img)\n",
        "    img = img/255\n",
        "    return img"
      ],
      "execution_count": null,
      "outputs": []
    },
    {
      "cell_type": "code",
      "metadata": {
        "id": "pwYaSnFtpAdN"
      },
      "source": [
        "X_train = np.array(list(map(preprocess, X_train)))\n",
        "X_test = np.array(list(map(preprocess, X_test)))\n",
        "X_val = np.array(list(map(preprocess, X_val)))\n",
        "     \n",
        "plt.imshow(X_train[random.randint(0, len(X_train) - 1)])\n",
        "plt.axis('off')\n",
        "print(X_train.shape)"
      ],
      "execution_count": null,
      "outputs": []
    },
    {
      "cell_type": "code",
      "metadata": {
        "id": "spgUl5LUpNFN"
      },
      "source": [
        "X_train = X_train.reshape(34799, 32, 32, 1)\n",
        "X_test = X_test.reshape(12630, 32, 32, 1)\n",
        "X_val = X_val.reshape(4410, 32, 32, 1)"
      ],
      "execution_count": null,
      "outputs": []
    },
    {
      "cell_type": "code",
      "metadata": {
        "id": "LK565IKZpkHp"
      },
      "source": [
        "from keras.preprocessing.image import ImageDataGenerator\n",
        "     \n",
        "datagen = ImageDataGenerator(width_shift_range=0.1,\n",
        "                             height_shift_range=0.1,\n",
        "                             zoom_range=0.2,\n",
        "                             shear_range=0.1,\n",
        "                             rotation_range=10.)\n",
        "     \n",
        "datagen.fit(X_train)\n",
        "\n",
        "\n",
        "batches = datagen.flow(X_train, y_train, batch_size = 15)\n",
        "X_batch, y_batch = next(batches)\n",
        "     \n",
        "fig, axs = plt.subplots(1, 15, figsize=(20, 5))\n",
        "fig.tight_layout()\n",
        "     \n",
        "for i in range(15):\n",
        "    axs[i].imshow(X_batch[i].reshape(32, 32))\n",
        "    axs[i].axis(\"off\")\n",
        "     \n",
        "print(\"the X_batch shape is:\",X_batch.shape)\n"
      ],
      "execution_count": null,
      "outputs": []
    },
    {
      "cell_type": "code",
      "metadata": {
        "id": "jRCdQkQbptcP"
      },
      "source": [
        "y_train = to_categorical(y_train, 43)\n",
        "y_test = to_categorical(y_test, 43)\n",
        "y_val = to_categorical(y_val, 43)\n",
        "\n",
        "# create model\n",
        "     \n",
        "def modified_model():\n",
        "   model = Sequential()\n",
        "   model.add(Conv2D(60, (5, 5), input_shape=(32, 32, 1), activation='relu'))\n",
        "   model.add(Conv2D(60, (5, 5), activation='relu'))\n",
        "   model.add(Conv2D(60, (5, 5), activation='relu'))\n",
        "   model.add(MaxPooling2D(pool_size=(2, 2)))\n",
        "   model.add(Conv2D(30, (3, 3), activation='relu')) \n",
        "   model.add(Conv2D(30, (3, 3), activation='relu'))\n",
        "   model.add(Conv2D(30, (3, 3), activation='relu'))\n",
        "   model.add(MaxPooling2D(pool_size=(2, 2)))\n",
        "      \n",
        "   model.add(Flatten())\n",
        "   model.add(Dense(500, activation='relu'))\n",
        "   model.add(Dropout(0.5))\n",
        "   model.add(Dense(43, activation='softmax'))\n",
        "      \n",
        "   model.compile(Adam(lr = 0.001), loss='categorical_crossentropy', metrics=['accuracy'])\n",
        "   return model"
      ],
      "execution_count": null,
      "outputs": []
    },
    {
      "cell_type": "code",
      "metadata": {
        "id": "R79H46UUqDkU"
      },
      "source": [
        "plt.plot(history.history['loss'])\n",
        "plt.plot(history.history['val_loss'])\n",
        "plt.title('Loss')\n",
        "plt.xlabel('epoch')"
      ],
      "execution_count": null,
      "outputs": []
    },
    {
      "cell_type": "code",
      "metadata": {
        "id": "MylrSY6PqGna"
      },
      "source": [
        "plt.plot(history.history['accuracy'])\n",
        "plt.plot(history.history['val_accuracy'])\n",
        "plt.legend(['training','test'])\n",
        "plt.title('Accuracy')\n",
        "plt.xlabel('epoch')"
      ],
      "execution_count": null,
      "outputs": []
    },
    {
      "cell_type": "code",
      "metadata": {
        "id": "PC3dG4G2qQKV"
      },
      "source": [
        "score = model.evaluate(X_test, y_test, verbose=0)\n",
        "print('Test score:', score[0])\n",
        "print('Test accuracy:', score[1])"
      ],
      "execution_count": null,
      "outputs": []
    },
    {
      "cell_type": "code",
      "metadata": {
        "id": "GOfHXQhQqS8I"
      },
      "source": [
        "import requests\n",
        "from PIL import Image\n",
        "#End of no passing\n",
        "#url = 'https://i.pinimg.com/564x/ea/5a/b5/ea5ab5ba86758a52148926afcf665b5e.jpg'\n",
        "#Yield sign url link\n",
        "#url='https://previews.123rf.com/images/pejo/pejo0907/pejo090700003/5155701-german-traffic-sign-no-205-give-way.jpg'\n",
        "#No entry url link\n",
        "#url='https://i.pinimg.com/564x/79/1b/cc/791bcce2afd9b636c8ff452043d3e760.jpg'\n",
        "#url='https://i.pinimg.com/236x/f0/36/64/f036645aa1e8a2023928ba17459ef01e.jpg'\n",
        "#url='https://www.safetysign.com/images/source/product-grid-images/Y2739.png'\n",
        "url='https://i.pinimg.com/236x/09/ef/2f/09ef2fa15040854e76fb1a07e49fdcec.jpg'\n",
        "r = requests.get(url, stream=True)\n",
        "img = Image.open(r.raw)\n",
        "plt.imshow(img, cmap=plt.get_cmap('gray'))\n",
        " \n",
        "img = np.asarray(img)\n",
        "img = cv2.resize(img, (32, 32))\n",
        "img = preprocess(img)\n",
        "#plt.imshow(img, cmap = plt.get_cmap('gray'))\n",
        "print(img.shape)\n",
        "img = img.reshape(1, 32, 32, 1)\n",
        " \n",
        "print(\"predicted sign: \"+ str(model.predict_classes(img)))\n",
        "classNo=int(model.predict_classes(img))\n",
        " \n",
        "def getCalssName(classNo):\n",
        "  if   classNo == 0: return 'Speed Limit 20 km/h'\n",
        "  elif classNo == 1: return 'Speed Limit 30 km/h'\n",
        "  elif classNo == 2: return 'Speed Limit 50 km/h'\n",
        "  elif classNo == 3: return 'Speed Limit 60 km/h'\n",
        "  elif classNo == 4: return 'Speed Limit 70 km/h'\n",
        "  elif classNo == 5: return 'Speed Limit 80 km/h'\n",
        "  elif classNo == 6: return 'End of Speed Limit 80 km/h'\n",
        "  elif classNo == 7: return 'Speed Limit 100 km/h'\n",
        "  elif classNo == 8: return 'Speed Limit 120 km/h'\n",
        "  elif classNo == 9: return 'No passing'\n",
        "  elif classNo == 10: return 'No passing for vechiles over 3.5 metric tons'\n",
        "  elif classNo == 11: return 'Right-of-way at the next intersection'\n",
        "  elif classNo == 12: return 'Priority road'\n",
        "  elif classNo == 13: return 'Yield'\n",
        "  elif classNo == 14: return 'Stop'\n",
        "  elif classNo == 15: return 'No vechiles'\n",
        "  elif classNo == 16: return 'Vechiles over 3.5 metric tons prohibited'\n",
        "  elif classNo == 17: return 'No entry'\n",
        "  elif classNo == 18: return 'General caution'\n",
        "  elif classNo == 19: return 'Dangerous curve to the left'\n",
        "  elif classNo == 20: return 'Dangerous curve to the right'\n",
        "  elif classNo == 21: return 'Double curve'\n",
        "  elif classNo == 22: return 'Bumpy road'\n",
        "  elif classNo == 23: return 'Slippery road'\n",
        "  elif classNo == 24: return 'Road narrows on the right'\n",
        "  elif classNo == 25: return 'Road work'\n",
        "  elif classNo == 26: return 'Traffic signals'\n",
        "  elif classNo == 27: return 'Pedestrians'\n",
        "  elif classNo == 28: return 'Children crossing'\n",
        "  elif classNo == 29: return 'Bicycles crossing'\n",
        "  elif classNo == 30: return 'Beware of ice/snow'\n",
        "  elif classNo == 31: return 'Wild animals crossing'\n",
        "  elif classNo == 32: return 'End of all speed and passing limits'\n",
        "  elif classNo == 33: return 'Turn right ahead'\n",
        "  elif classNo == 34: return 'Turn left ahead'\n",
        "  elif classNo == 35: return 'Ahead only'\n",
        "  elif classNo == 36: return 'Go straight or right'\n",
        "  elif classNo == 37: return 'Go straight or left'\n",
        "  elif classNo == 38: return 'Keep right'\n",
        "  elif classNo == 39: return 'Keep left'\n",
        "  elif classNo == 40: return 'Roundabout mandatory'\n",
        "  elif classNo == 41: return 'End of no passing'\n",
        "  elif classNo == 42: return 'End of no passing by vechiles over 3.5 metric tons'\n",
        " \n",
        "sign=getCalssName(classNo)\n",
        "print(\"the detected sign is {}\".format(sign))"
      ],
      "execution_count": null,
      "outputs": []
    }
  ]
}